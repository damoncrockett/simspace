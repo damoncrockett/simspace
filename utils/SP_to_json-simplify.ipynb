{
 "cells": [
  {
   "cell_type": "code",
   "execution_count": 2,
   "metadata": {},
   "outputs": [],
   "source": [
    "import pandas as pd\n",
    "import numpy as np\n",
    "import sys\n",
    "sys.path.append('/Users/damoncrockett/ivpytest/src')\n",
    "from ivpy import *\n",
    "from ivpy.extract import extract,norm\n",
    "from ivpy.utils import resize\n",
    "import glob,os\n",
    "import warnings\n",
    "warnings.filterwarnings('ignore')"
   ]
  },
  {
   "cell_type": "code",
   "execution_count": 3,
   "metadata": {},
   "outputs": [],
   "source": [
    "f = '/Users/damoncrockett/Desktop/textureparams2.csv'\n",
    "xf = pd.read_csv(f,header=None)"
   ]
  },
  {
   "cell_type": "code",
   "execution_count": 4,
   "metadata": {},
   "outputs": [],
   "source": [
    "X = norm(xf.iloc[:,1:])"
   ]
  },
  {
   "cell_type": "code",
   "execution_count": 5,
   "metadata": {},
   "outputs": [],
   "source": [
    "from ivpy.reduce import pca,tsne,umap"
   ]
  },
  {
   "cell_type": "code",
   "execution_count": 6,
   "metadata": {},
   "outputs": [],
   "source": [
    "xf[['xp','yp']] = norm(pca(X,n_components=2))\n",
    "xf[['xt','yt']] = norm(tsne(X))\n",
    "xf[['xu','yu']] = norm(umap(X))"
   ]
  },
  {
   "cell_type": "markdown",
   "metadata": {},
   "source": [
    "### JSON creation"
   ]
  },
  {
   "cell_type": "code",
   "execution_count": 7,
   "metadata": {},
   "outputs": [],
   "source": [
    "import json"
   ]
  },
  {
   "cell_type": "code",
   "execution_count": 8,
   "metadata": {},
   "outputs": [],
   "source": [
    "def row2jso(xf,xcol,ycol,i):\n",
    "    row = xf.loc[i]\n",
    "    jso = {}\n",
    "    jso['x'] = row[xcol]\n",
    "    jso['y'] = row[ycol]\n",
    "\n",
    "    return jso"
   ]
  },
  {
   "cell_type": "code",
   "execution_count": 9,
   "metadata": {},
   "outputs": [],
   "source": [
    "pcaArray = [row2jso(xf,'xp','yp',i) for i in xf.index]\n",
    "tsneArray = [row2jso(xf,'xt','yt',i) for i in xf.index]\n",
    "umapArray = [row2jso(xf,'xu','yu',i) for i in xf.index]"
   ]
  },
  {
   "cell_type": "code",
   "execution_count": 10,
   "metadata": {},
   "outputs": [],
   "source": [
    "JSONDIR = '/Users/damoncrockett/Dropbox/lml_passthrough/'"
   ]
  },
  {
   "cell_type": "code",
   "execution_count": 11,
   "metadata": {},
   "outputs": [],
   "source": [
    "with open(JSONDIR+\"sp_pca_xy.json\",'w') as outfile:\n",
    "    json.dump(pcaArray,outfile)\n",
    "\n",
    "with open(JSONDIR+\"sp_tsne_xy.json\",'w') as outfile:\n",
    "    json.dump(tsneArray,outfile)\n",
    "\n",
    "with open(JSONDIR+\"sp_umap_xy.json\",'w') as outfile:\n",
    "    json.dump(umapArray,outfile)"
   ]
  },
  {
   "cell_type": "code",
   "execution_count": null,
   "metadata": {},
   "outputs": [],
   "source": []
  },
  {
   "cell_type": "code",
   "execution_count": null,
   "metadata": {},
   "outputs": [],
   "source": []
  }
 ],
 "metadata": {
  "kernelspec": {
   "display_name": "Python 3",
   "language": "python",
   "name": "python3"
  },
  "language_info": {
   "codemirror_mode": {
    "name": "ipython",
    "version": 3
   },
   "file_extension": ".py",
   "mimetype": "text/x-python",
   "name": "python",
   "nbconvert_exporter": "python",
   "pygments_lexer": "ipython3",
   "version": "3.6.5"
  }
 },
 "nbformat": 4,
 "nbformat_minor": 2
}
