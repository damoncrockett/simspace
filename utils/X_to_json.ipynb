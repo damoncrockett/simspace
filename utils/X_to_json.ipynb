{
 "cells": [
  {
   "cell_type": "code",
   "execution_count": 1,
   "metadata": {},
   "outputs": [
    {
     "name": "stderr",
     "output_type": "stream",
     "text": [
      "/Users/damoncrockett/iv/lib/python3.6/site-packages/h5py/__init__.py:36: FutureWarning: Conversion of the second argument of issubdtype from `float` to `np.floating` is deprecated. In future, it will be treated as `np.float64 == np.dtype(float).type`.\n",
      "  from ._conv import register_converters as _register_converters\n",
      "Using TensorFlow backend.\n"
     ]
    }
   ],
   "source": [
    "import pandas as pd\n",
    "import numpy as np\n",
    "import sys\n",
    "sys.path.append('/Users/damoncrockett/ivpytest/src')\n",
    "from ivpy import *\n",
    "from ivpy.extract import extract,norm\n",
    "from ivpy.utils import resize\n",
    "import glob,os"
   ]
  },
  {
   "cell_type": "code",
   "execution_count": 2,
   "metadata": {},
   "outputs": [],
   "source": [
    "f = '/Users/damoncrockett/Desktop/textureparams2.csv'\n",
    "xf = pd.read_csv(f,header=None)"
   ]
  },
  {
   "cell_type": "code",
   "execution_count": 3,
   "metadata": {},
   "outputs": [],
   "source": [
    "X = norm(xf.iloc[:,1:])"
   ]
  },
  {
   "cell_type": "code",
   "execution_count": 4,
   "metadata": {},
   "outputs": [],
   "source": [
    "DIR = '/Users/damoncrockett/simspace/src/assets/json/img/'"
   ]
  },
  {
   "cell_type": "code",
   "execution_count": 5,
   "metadata": {},
   "outputs": [],
   "source": [
    "# won't be used in the web app, but useful for futzing with the images prior to\n",
    "\n",
    "xf['localpath'] = [DIR + item + '.jpeg' for item in xf[0]]"
   ]
  },
  {
   "cell_type": "markdown",
   "metadata": {},
   "source": [
    "### Creating localhost paths"
   ]
  },
  {
   "cell_type": "code",
   "execution_count": 6,
   "metadata": {},
   "outputs": [],
   "source": [
    "xf['localhostpath'] = ['http://localhost:8888/img/' + os.path.basename(item) for item in xf.localpath]"
   ]
  },
  {
   "cell_type": "markdown",
   "metadata": {},
   "source": [
    "### Creation of simspaces"
   ]
  },
  {
   "cell_type": "markdown",
   "metadata": {},
   "source": [
    "The target problem is visualizing the similarity spaces of different texture models. In order to visualize these spaces, we need dimension reduction (to 2 dimensions). For now, we'll just use t-SNE and UMAP, since they are different simspaces and can return 2-dimensional display coordinates."
   ]
  },
  {
   "cell_type": "code",
   "execution_count": 7,
   "metadata": {},
   "outputs": [],
   "source": [
    "from ivpy.reduce import pca,tsne,umap"
   ]
  },
  {
   "cell_type": "code",
   "execution_count": 10,
   "metadata": {},
   "outputs": [],
   "source": [
    "xf[['xp','yp']] = norm(pca(X,n_components=2))\n",
    "xf[['xt','yt']] = norm(tsne(X))\n",
    "xf[['xu','yu']] = norm(umap(X))"
   ]
  },
  {
   "cell_type": "markdown",
   "metadata": {},
   "source": [
    "### JSON creation"
   ]
  },
  {
   "cell_type": "code",
   "execution_count": 11,
   "metadata": {},
   "outputs": [],
   "source": [
    "import json"
   ]
  },
  {
   "cell_type": "code",
   "execution_count": 12,
   "metadata": {},
   "outputs": [],
   "source": [
    "def row2jso(xf,xcol,ycol,i):\n",
    "    row = xf.loc[i]\n",
    "    jso = {}\n",
    "    jso['imgpath'] = row.localhostpath\n",
    "    jso['x'] = row[xcol]\n",
    "    jso['y'] = row[ycol]\n",
    "\n",
    "    return jso"
   ]
  },
  {
   "cell_type": "code",
   "execution_count": 13,
   "metadata": {},
   "outputs": [],
   "source": [
    "pcaArray = [row2jso(xf,'xp','yp',i) for i in xf.index]\n",
    "tsneArray = [row2jso(xf,'xt','yt',i) for i in xf.index]\n",
    "umapArray = [row2jso(xf,'xu','yu',i) for i in xf.index]"
   ]
  },
  {
   "cell_type": "code",
   "execution_count": 14,
   "metadata": {},
   "outputs": [],
   "source": [
    "JSONDIR = '/Users/damoncrockett/simspace/src/assets/json/'"
   ]
  },
  {
   "cell_type": "code",
   "execution_count": 15,
   "metadata": {},
   "outputs": [],
   "source": [
    "with open(JSONDIR+\"pca.json\",'w') as outfile:\n",
    "    json.dump(pcaArray,outfile)\n",
    "\n",
    "with open(JSONDIR+\"tsne.json\",'w') as outfile:\n",
    "    json.dump(tsneArray,outfile)\n",
    "\n",
    "with open(JSONDIR+\"umap.json\",'w') as outfile:\n",
    "    json.dump(umapArray,outfile)"
   ]
  }
 ],
 "metadata": {
  "kernelspec": {
   "display_name": "Python 3",
   "language": "python",
   "name": "python3"
  },
  "language_info": {
   "codemirror_mode": {
    "name": "ipython",
    "version": 3
   },
   "file_extension": ".py",
   "mimetype": "text/x-python",
   "name": "python",
   "nbconvert_exporter": "python",
   "pygments_lexer": "ipython3",
   "version": "3.6.5"
  }
 },
 "nbformat": 4,
 "nbformat_minor": 2
}
