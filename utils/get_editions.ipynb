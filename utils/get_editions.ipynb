{
 "cells": [
  {
   "cell_type": "code",
   "execution_count": 1,
   "metadata": {},
   "outputs": [],
   "source": [
    "import pandas as pd\n",
    "import numpy as np\n",
    "import glob,os\n",
    "import warnings\n",
    "warnings.filterwarnings('ignore')"
   ]
  },
  {
   "cell_type": "code",
   "execution_count": 2,
   "metadata": {},
   "outputs": [],
   "source": [
    "f = '/Users/damoncrockett/Desktop/textureparams2.csv'\n",
    "xf = pd.read_csv(f,header=None)"
   ]
  },
  {
   "cell_type": "markdown",
   "metadata": {},
   "source": [
    "### Metadata"
   ]
  },
  {
   "cell_type": "code",
   "execution_count": 3,
   "metadata": {},
   "outputs": [],
   "source": [
    "xf['edition'] = [item.split('_')[0] for item in xf[0]]"
   ]
  },
  {
   "cell_type": "code",
   "execution_count": 7,
   "metadata": {},
   "outputs": [
    {
     "data": {
      "text/plain": [
       "{'1249',\n",
       " '1253',\n",
       " '1256',\n",
       " '1265',\n",
       " '1294',\n",
       " '1295',\n",
       " '1296',\n",
       " '1297',\n",
       " '1298',\n",
       " '1299',\n",
       " '1300',\n",
       " '1301',\n",
       " '1313',\n",
       " '1324',\n",
       " '1327',\n",
       " '1331',\n",
       " '1335',\n",
       " '1348',\n",
       " '1358',\n",
       " '1359',\n",
       " '1360',\n",
       " '1361',\n",
       " '1362',\n",
       " '1363',\n",
       " '1364',\n",
       " '1365',\n",
       " '1366',\n",
       " '1367',\n",
       " '1368',\n",
       " '1387',\n",
       " '1403',\n",
       " '2589',\n",
       " '2591',\n",
       " '2592',\n",
       " '2594',\n",
       " '2595',\n",
       " '2596',\n",
       " '2597',\n",
       " '2598',\n",
       " '2599',\n",
       " '2600',\n",
       " '2601',\n",
       " '2602',\n",
       " '2603',\n",
       " '2605',\n",
       " '2606',\n",
       " '2607',\n",
       " '2608',\n",
       " '2609',\n",
       " '2610'}"
      ]
     },
     "execution_count": 7,
     "metadata": {},
     "output_type": "execute_result"
    }
   ],
   "source": [
    "set(xf.edition.unique())"
   ]
  },
  {
   "cell_type": "code",
   "execution_count": null,
   "metadata": {},
   "outputs": [],
   "source": []
  },
  {
   "cell_type": "code",
   "execution_count": null,
   "metadata": {},
   "outputs": [],
   "source": []
  }
 ],
 "metadata": {
  "kernelspec": {
   "display_name": "Python 3",
   "language": "python",
   "name": "python3"
  },
  "language_info": {
   "codemirror_mode": {
    "name": "ipython",
    "version": 3
   },
   "file_extension": ".py",
   "mimetype": "text/x-python",
   "name": "python",
   "nbconvert_exporter": "python",
   "pygments_lexer": "ipython3",
   "version": "3.6.5"
  }
 },
 "nbformat": 4,
 "nbformat_minor": 2
}
