{
 "cells": [
  {
   "cell_type": "code",
   "execution_count": 1,
   "metadata": {},
   "outputs": [],
   "source": [
    "import pandas as pd\n",
    "import numpy as np\n",
    "import glob,os\n",
    "import warnings\n",
    "warnings.filterwarnings('ignore')"
   ]
  },
  {
   "cell_type": "code",
   "execution_count": 2,
   "metadata": {},
   "outputs": [],
   "source": [
    "f = '/Users/damoncrockett/Desktop/textureparams2.csv'\n",
    "xf = pd.read_csv(f,header=None)"
   ]
  },
  {
   "cell_type": "markdown",
   "metadata": {},
   "source": [
    "### Metadata"
   ]
  },
  {
   "cell_type": "code",
   "execution_count": 3,
   "metadata": {},
   "outputs": [],
   "source": [
    "xf['edition'] = [item.split('_')[0] for item in xf[0]]"
   ]
  },
  {
   "cell_type": "code",
   "execution_count": 4,
   "metadata": {},
   "outputs": [],
   "source": [
    "xf['leaf'] = ['_'.join(item.split('_')[:-1]) for item in xf[0]]"
   ]
  },
  {
   "cell_type": "code",
   "execution_count": 7,
   "metadata": {},
   "outputs": [
    {
     "data": {
      "text/plain": [
       "array(['1249_4', '1249_5', '1249_essai_10', '1249_essai', '1253_4',\n",
       "       '1253_epreuve_5', '1253_essai_a', '1253_essai_b', '1256_4',\n",
       "       '1256_8', '1256_essai_japon', '1256_essai', '1265_4', '1265_essai',\n",
       "       '1294_10', '1294_29', '1294_40', '1294_41', '1294_4', '1294_7',\n",
       "       '1294_epreuve_8', '1294_essai', '1295_13', '1295_20', '1295_25',\n",
       "       '1295_26', '1295_32', '1295_38', '1295_41', '1295_46', '1295_7',\n",
       "       '1295_essai', '1296_16', '1296_28_treated', '1296_32',\n",
       "       '1296_9_treated', '1296_epreuve_6', '1296_essai',\n",
       "       '1297_essai_japon', '1298_49', '1298_50', '1298_5',\n",
       "       '1298_epeuve_7', '1298_essai', '1299_19', '1299_24', '1299_42',\n",
       "       '1299_50', '1299_essai', '1300_34', '1300_4', '1300_6', '1300_81',\n",
       "       '1300_83', '1301_39', '1301_45', '1301_50', '1301_5',\n",
       "       '1301_essai_a', '1301_essai_b', '1301_essai_japon', '1313_13',\n",
       "       '1313_4', '1313_epreuve_10', '1313_essai', '1324_40', '1324_41',\n",
       "       '1324_66', '1324_72', '1324_73', '1324_7', '1324_essai_japon',\n",
       "       '1324_essai', '1324_premier_etat', '1327_18', '1327_29', '1327_35',\n",
       "       '1327_41', '1327_49', '1327_64', '1327_68', '1331_10',\n",
       "       '1331_epreuve_8', '1331_essai_a', '1331_essai_b',\n",
       "       '1331_essai_japon', '1335', '1348_18', '1348_21', '1348_essai',\n",
       "       '1358_16', '1358_23', '1358_2', '1358_essai', '1359_14', '1359_22',\n",
       "       '1359_5', '1359_essai', '1360_11', '1360_9', '1360_essai',\n",
       "       '1361_12', '1361_16', '1361_19', '1361_24', '1361_essai',\n",
       "       '1362_13', '1362_17', '1362_20', '1362_22', '1362_essai',\n",
       "       '1363_14', '1363_8', '1363_essai', '1364_16', '1364_1', '1364_20',\n",
       "       '1364_23', '1365_11', '1365_16', '1366_12', '1366_18', '1366_20',\n",
       "       '1366_6', '1367_21', '1367_24', '1367_3', '1367_8',\n",
       "       '1367_epeuve_2', '1368_1', '1368_6', '1368_epeuve_1', '1387_10',\n",
       "       '1387_18', '1387_22', '1387_epreuve_4', '1403_13', '1403_21',\n",
       "       '1403_32', '1403_33', '1403_4', '2589_11', '2589_18', '2589_3',\n",
       "       '2589_essai', '2591_16', '2591_6', '2591_epreuve_6', '2591_essai',\n",
       "       '2592_13', '2592_6', '2592_essai_a', '2592_essai_b', '2594_3',\n",
       "       '2594_7', '2594_essai', '2595_12', '2595_20', '2595_6',\n",
       "       '2595_essai', '2596_12', '2596_18', '2596_3', '2596_essai',\n",
       "       '2597_1', '2597_21', '2597_9', '2597_essai', '2598_19', '2598_4',\n",
       "       '2598_essai_a', '2598_essai_b', '2599_23', '2599_5',\n",
       "       '2599_epreuve_5', '2599_essai', '2600_10', '2600_19', '2600_4',\n",
       "       '2600_essai', '2601_16', '2601_9', '2601_epreuve_5', '2601_essai',\n",
       "       '2602_24', '2602_4', '2602_epreuve_3', '2602_essai', '2603_12',\n",
       "       '2603_21', '2603_3', '2603_essai', '2605_10', '2605_19', '2605_1',\n",
       "       '2605_essai', '2606_16', '2606_7', '2606_epreuve_6', '2606_essai',\n",
       "       '2607_18', '2607_8', '2607_epreuve_4', '2607_essai', '2608_17',\n",
       "       '2608_6', '2608_epreuve_1', '2608_essai', '2609_11', '2609_23',\n",
       "       '2609_7', '2609_epreuve_2', '2610_11', '2610_23', '2610_5'],\n",
       "      dtype=object)"
      ]
     },
     "execution_count": 7,
     "metadata": {},
     "output_type": "execute_result"
    }
   ],
   "source": [
    "xf.leaf.unique()"
   ]
  },
  {
   "cell_type": "code",
   "execution_count": null,
   "metadata": {},
   "outputs": [],
   "source": []
  }
 ],
 "metadata": {
  "kernelspec": {
   "display_name": "Python 3",
   "language": "python",
   "name": "python3"
  },
  "language_info": {
   "codemirror_mode": {
    "name": "ipython",
    "version": 3
   },
   "file_extension": ".py",
   "mimetype": "text/x-python",
   "name": "python",
   "nbconvert_exporter": "python",
   "pygments_lexer": "ipython3",
   "version": "3.6.5"
  }
 },
 "nbformat": 4,
 "nbformat_minor": 2
}
