{
 "cells": [
  {
   "cell_type": "code",
   "execution_count": 65,
   "metadata": {},
   "outputs": [],
   "source": [
    "import pandas as pd\n",
    "import numpy as np\n",
    "import sys\n",
    "sys.path.append('/Users/damoncrockett/ivpytest/src')\n",
    "from ivpy import *\n",
    "from ivpy.extract import extract, norm\n",
    "from ivpy.utils import resize\n",
    "import glob,os"
   ]
  },
  {
   "cell_type": "code",
   "execution_count": 66,
   "metadata": {},
   "outputs": [],
   "source": [
    "DIR = '/Users/damoncrockett/Desktop/harkness/'"
   ]
  },
  {
   "cell_type": "code",
   "execution_count": 67,
   "metadata": {},
   "outputs": [],
   "source": [
    "allfiles = glob.glob(os.path.join(DIR,'*.JPG'))\n",
    "df = pd.DataFrame({'localpath':allfiles})"
   ]
  },
  {
   "cell_type": "code",
   "execution_count": 68,
   "metadata": {},
   "outputs": [],
   "source": [
    "attach(df,'localpath')"
   ]
  },
  {
   "cell_type": "code",
   "execution_count": 69,
   "metadata": {},
   "outputs": [],
   "source": [
    "df['scalepath'] = resize(savedir='/Users/damoncrockett/Desktop/harkscaled/')"
   ]
  },
  {
   "cell_type": "markdown",
   "metadata": {},
   "source": [
    "### Creating localhost paths"
   ]
  },
  {
   "cell_type": "code",
   "execution_count": 70,
   "metadata": {},
   "outputs": [],
   "source": [
    "df['localhostpath'] = ['http://localhost:8888/img/' + os.path.basename(item) for item in df.scalepath]"
   ]
  },
  {
   "cell_type": "markdown",
   "metadata": {},
   "source": [
    "### Creation of simspaces"
   ]
  },
  {
   "cell_type": "markdown",
   "metadata": {},
   "source": [
    "The target problem is visualizing the similarity spaces of different texture models. In order to visualize these spaces, we need dimension reduction (to 2 dimensions). For now, we'll just use t-SNE and UMAP, since they are different simspaces and can return 2-dimensional display coordinates."
   ]
  },
  {
   "cell_type": "code",
   "execution_count": 71,
   "metadata": {},
   "outputs": [],
   "source": [
    "attach(df,'scalepath')"
   ]
  },
  {
   "cell_type": "code",
   "execution_count": 72,
   "metadata": {},
   "outputs": [
    {
     "name": "stdout",
     "output_type": "stream",
     "text": [
      "5% 10% 15% 20% 25% 30% 35% 40% 45% 50% 55% 60% 65% 70% 75% 80% 85% 90% 95% "
     ]
    }
   ],
   "source": [
    "X = extract('neural')"
   ]
  },
  {
   "cell_type": "code",
   "execution_count": 73,
   "metadata": {},
   "outputs": [],
   "source": [
    "from ivpy.reduce import tsne,umap"
   ]
  },
  {
   "cell_type": "code",
   "execution_count": 74,
   "metadata": {},
   "outputs": [],
   "source": [
    "df[['xu','yu']] = norm(umap(X))\n",
    "df[['xt','yt']] = norm(tsne(X))"
   ]
  },
  {
   "cell_type": "markdown",
   "metadata": {},
   "source": [
    "### JSON creation"
   ]
  },
  {
   "cell_type": "code",
   "execution_count": 75,
   "metadata": {},
   "outputs": [],
   "source": [
    "import json"
   ]
  },
  {
   "cell_type": "code",
   "execution_count": 82,
   "metadata": {},
   "outputs": [],
   "source": [
    "def row2jso(df,xcol,ycol,i):\n",
    "    row = df.loc[i]\n",
    "    jso = {}\n",
    "    jso['imgpath'] = row.localhostpath\n",
    "    jso['x'] = row[xcol]\n",
    "    jso['y'] = row[ycol]\n",
    "\n",
    "    return jso"
   ]
  },
  {
   "cell_type": "code",
   "execution_count": 85,
   "metadata": {},
   "outputs": [],
   "source": [
    "umapArray = [row2jso(df,'xu','yu',i) for i in df.index]\n",
    "tsneArray = [row2jso(df,'xt','yt',i) for i in df.index]"
   ]
  },
  {
   "cell_type": "code",
   "execution_count": 87,
   "metadata": {},
   "outputs": [],
   "source": [
    "JSONDIR = '/Users/damoncrockett/simspace/src/assets/json/'"
   ]
  },
  {
   "cell_type": "code",
   "execution_count": 88,
   "metadata": {},
   "outputs": [],
   "source": [
    "with open(JSONDIR+\"umap.json\",'w') as outfile:\n",
    "    json.dump(umapArray,outfile)\n",
    "    \n",
    "with open(JSONDIR+\"tsne.json\",'w') as outfile:\n",
    "    json.dump(tsneArray,outfile)"
   ]
  }
 ],
 "metadata": {
  "kernelspec": {
   "display_name": "Python 3",
   "language": "python",
   "name": "python3"
  },
  "language_info": {
   "codemirror_mode": {
    "name": "ipython",
    "version": 3
   },
   "file_extension": ".py",
   "mimetype": "text/x-python",
   "name": "python",
   "nbconvert_exporter": "python",
   "pygments_lexer": "ipython3",
   "version": "3.6.5"
  }
 },
 "nbformat": 4,
 "nbformat_minor": 2
}
