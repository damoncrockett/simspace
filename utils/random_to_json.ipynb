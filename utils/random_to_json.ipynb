{
 "cells": [
  {
   "cell_type": "code",
   "execution_count": 2,
   "metadata": {},
   "outputs": [],
   "source": [
    "import pandas as pd\n",
    "import numpy as np\n",
    "import sys\n",
    "sys.path.append('/Users/damoncrockett/ivpytest/src')\n",
    "from ivpy import *\n",
    "from ivpy.extract import extract,norm\n",
    "from ivpy.utils import resize\n",
    "import glob,os\n",
    "import warnings\n",
    "warnings.filterwarnings('ignore')"
   ]
  },
  {
   "cell_type": "markdown",
   "metadata": {},
   "source": [
    "We want to keep the sort order the same as for the other models."
   ]
  },
  {
   "cell_type": "code",
   "execution_count": 3,
   "metadata": {},
   "outputs": [],
   "source": [
    "f = '/Users/damoncrockett/Desktop/textureparams2.csv'\n",
    "xf = pd.read_csv(f,header=None)"
   ]
  },
  {
   "cell_type": "code",
   "execution_count": 4,
   "metadata": {},
   "outputs": [],
   "source": [
    "DIR = '/Users/damoncrockett/simspace/src/assets/json/img/'"
   ]
  },
  {
   "cell_type": "code",
   "execution_count": 5,
   "metadata": {},
   "outputs": [],
   "source": [
    "# won't be used in the web app, but useful for futzing with the images prior to\n",
    "\n",
    "xf['localpath'] = [DIR + item + '.jpeg' for item in xf[0]]"
   ]
  },
  {
   "cell_type": "markdown",
   "metadata": {},
   "source": [
    "### Creating localhost paths"
   ]
  },
  {
   "cell_type": "code",
   "execution_count": 6,
   "metadata": {},
   "outputs": [],
   "source": [
    "xf['localhostpath'] = ['http://localhost:8888/img/' + os.path.basename(item) for item in xf.localpath]"
   ]
  },
  {
   "cell_type": "markdown",
   "metadata": {},
   "source": [
    "### Random model"
   ]
  },
  {
   "cell_type": "code",
   "execution_count": 7,
   "metadata": {},
   "outputs": [],
   "source": [
    "X = pd.DataFrame(index=xf.index)"
   ]
  },
  {
   "cell_type": "code",
   "execution_count": 8,
   "metadata": {},
   "outputs": [],
   "source": [
    "for i in range(3):\n",
    "    X[i] = np.random.random_sample(len(xf))"
   ]
  },
  {
   "cell_type": "markdown",
   "metadata": {},
   "source": [
    "### Metadata"
   ]
  },
  {
   "cell_type": "code",
   "execution_count": 9,
   "metadata": {},
   "outputs": [],
   "source": [
    "xf['edition'] = [item.split('_')[0] for item in xf[0]]\n",
    "xf['leaf'] = ['_'.join(item.split('_')[:-1]) for item in xf[0]]\n",
    "xf.rename(columns={0:'fullname'},inplace=True)"
   ]
  },
  {
   "cell_type": "markdown",
   "metadata": {},
   "source": [
    "### Creation of simspaces"
   ]
  },
  {
   "cell_type": "markdown",
   "metadata": {},
   "source": [
    "The target problem is visualizing the similarity spaces of different texture models. In order to visualize these spaces, we need dimension reduction (to 2 dimensions). For now, we'll just use t-SNE and UMAP, since they are different simspaces and can return 2-dimensional display coordinates."
   ]
  },
  {
   "cell_type": "code",
   "execution_count": 10,
   "metadata": {},
   "outputs": [],
   "source": [
    "from ivpy.reduce import pca,tsne,umap"
   ]
  },
  {
   "cell_type": "code",
   "execution_count": 11,
   "metadata": {},
   "outputs": [],
   "source": [
    "xf[['xp','yp']] = norm(pca(X,n_components=2))\n",
    "xf[['xt','yt']] = norm(tsne(X))\n",
    "xf[['xu','yu']] = norm(umap(X))"
   ]
  },
  {
   "cell_type": "markdown",
   "metadata": {},
   "source": [
    "### Adding in cluster ids from SP model"
   ]
  },
  {
   "cell_type": "code",
   "execution_count": 12,
   "metadata": {},
   "outputs": [],
   "source": [
    "cf = pd.read_csv('/Users/damoncrockett/Desktop/clusterNums.csv')\n",
    "xf['clusterNum'] = cf.clusterNum"
   ]
  },
  {
   "cell_type": "markdown",
   "metadata": {},
   "source": [
    "### JSON creation"
   ]
  },
  {
   "cell_type": "code",
   "execution_count": 13,
   "metadata": {},
   "outputs": [],
   "source": [
    "import json"
   ]
  },
  {
   "cell_type": "code",
   "execution_count": 14,
   "metadata": {},
   "outputs": [],
   "source": [
    "def row2jso(xf,xcol,ycol,i):\n",
    "    row = xf.loc[i]\n",
    "    jso = {}\n",
    "    jso['imgpath'] = row.localhostpath\n",
    "    jso['x'] = row[xcol]\n",
    "    jso['y'] = row[ycol]\n",
    "    jso['edition'] = row.edition\n",
    "    jso['leaf'] = row.leaf\n",
    "    jso['fullname'] = row.fullname\n",
    "    jso['clusterNum'] = int(row.clusterNum)\n",
    "\n",
    "    return jso"
   ]
  },
  {
   "cell_type": "code",
   "execution_count": 15,
   "metadata": {},
   "outputs": [],
   "source": [
    "pcaArray = [row2jso(xf,'xp','yp',i) for i in xf.index]\n",
    "tsneArray = [row2jso(xf,'xt','yt',i) for i in xf.index]\n",
    "umapArray = [row2jso(xf,'xu','yu',i) for i in xf.index]"
   ]
  },
  {
   "cell_type": "code",
   "execution_count": 16,
   "metadata": {},
   "outputs": [],
   "source": [
    "JSONDIR = '/Users/damoncrockett/simspace/src/assets/json/'"
   ]
  },
  {
   "cell_type": "code",
   "execution_count": 17,
   "metadata": {},
   "outputs": [],
   "source": [
    "with open(JSONDIR+\"random4_pca.json\",'w') as outfile:\n",
    "    json.dump(pcaArray,outfile)\n",
    "\n",
    "with open(JSONDIR+\"random4_tsne.json\",'w') as outfile:\n",
    "    json.dump(tsneArray,outfile)\n",
    "\n",
    "with open(JSONDIR+\"random4_umap.json\",'w') as outfile:\n",
    "    json.dump(umapArray,outfile)"
   ]
  },
  {
   "cell_type": "code",
   "execution_count": null,
   "metadata": {},
   "outputs": [],
   "source": []
  }
 ],
 "metadata": {
  "kernelspec": {
   "display_name": "Python 3",
   "language": "python",
   "name": "python3"
  },
  "language_info": {
   "codemirror_mode": {
    "name": "ipython",
    "version": 3
   },
   "file_extension": ".py",
   "mimetype": "text/x-python",
   "name": "python",
   "nbconvert_exporter": "python",
   "pygments_lexer": "ipython3",
   "version": "3.6.5"
  }
 },
 "nbformat": 4,
 "nbformat_minor": 2
}
